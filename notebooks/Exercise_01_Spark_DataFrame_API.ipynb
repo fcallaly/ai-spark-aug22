{
 "cells": [
  {
   "cell_type": "code",
   "execution_count": 1,
   "metadata": {},
   "outputs": [],
   "source": [
    "from pyspark import SparkSession"
   ]
  },
  {
   "cell_type": "code",
   "execution_count": 4,
   "metadata": {},
   "outputs": [],
   "source": [
    "spark = SparkSession.builder.master(\"local[*]\") \\\n",
    "                            .appName(\"Spark_Dataframe_Exercise\") \\\n",
    "                            .getOrCreate()"
   ]
  },
  {
   "cell_type": "code",
   "execution_count": 8,
   "metadata": {},
   "outputs": [],
   "source": [
    "countries_df = spark.read.csv(\"countries.csv\", header=True)"
   ]
  },
  {
   "cell_type": "code",
   "execution_count": 31,
   "metadata": {},
   "outputs": [
    {
     "data": {
      "text/plain": [
       "[('Code', 'string'),\n",
       " ('Name', 'string'),\n",
       " ('Continent', 'string'),\n",
       " ('Region', 'string'),\n",
       " ('SurfaceArea', 'string'),\n",
       " ('IndepYear', 'string'),\n",
       " ('Population', 'string'),\n",
       " ('LifeExpectancy', 'string'),\n",
       " ('GNP', 'string'),\n",
       " ('GNPOld', 'string'),\n",
       " ('LocalName', 'string'),\n",
       " ('GovernmentForm', 'string'),\n",
       " ('HeadOfState', 'string'),\n",
       " ('Capital', 'string'),\n",
       " ('Code2', 'string')]"
      ]
     },
     "execution_count": 31,
     "metadata": {},
     "output_type": "execute_result"
    }
   ],
   "source": [
    "countries_df.dtypes"
   ]
  },
  {
   "cell_type": "code",
   "execution_count": 9,
   "metadata": {},
   "outputs": [
    {
     "name": "stdout",
     "output_type": "stream",
     "text": [
      "+----+--------------------+-------------+--------------------+-----------+---------+----------+--------------+--------+--------+--------------------+--------------------+--------------------+-------+-----+\n",
      "|Code|                Name|    Continent|              Region|SurfaceArea|IndepYear|Population|LifeExpectancy|     GNP|  GNPOld|           LocalName|      GovernmentForm|         HeadOfState|Capital|Code2|\n",
      "+----+--------------------+-------------+--------------------+-----------+---------+----------+--------------+--------+--------+--------------------+--------------------+--------------------+-------+-----+\n",
      "| ABW|               Aruba|North America|           Caribbean|      193.0|     null|    103000|          78.4|   828.0|   793.0|               Aruba|Nonmetropolitan T...|             Beatrix|  129.0|   AW|\n",
      "| AFG|         Afghanistan|         Asia|Southern and Cent...|   652090.0|   1919.0|  22720000|          45.9|  5976.0|    null|Afganistan/Afqane...|     Islamic Emirate|       Mohammad Omar|    1.0|   AF|\n",
      "| AGO|              Angola|       Africa|      Central Africa|  1246700.0|   1975.0|  12878000|          38.3|  6648.0|  7984.0|              Angola|            Republic|JosÃ© Eduardo dos...|   56.0|   AO|\n",
      "| AIA|            Anguilla|North America|           Caribbean|       96.0|     null|      8000|          76.1|    63.2|    null|            Anguilla|Dependent Territo...|        Elisabeth II|   62.0|   AI|\n",
      "| ALB|             Albania|       Europe|     Southern Europe|    28748.0|   1912.0|   3401200|          71.6|  3205.0|  2500.0|          ShqipÃ«ria|            Republic|      Rexhep Mejdani|   34.0|   AL|\n",
      "| AND|             Andorra|       Europe|     Southern Europe|      468.0|   1278.0|     78000|          83.5|  1630.0|    null|             Andorra|Parliamentary Cop...|                null|   55.0|   AD|\n",
      "| ANT|Netherlands Antilles|North America|           Caribbean|      800.0|     null|    217000|          74.7|  1941.0|    null|Nederlandse Antillen|Nonmetropolitan T...|             Beatrix|   33.0|   AN|\n",
      "| ARE|United Arab Emirates|         Asia|         Middle East|    83600.0|   1971.0|   2441000|          74.1| 37966.0| 36846.0|Al-Imarat al-Â´Ar...|  Emirate Federation|Zayid bin Sultan ...|   65.0|   AE|\n",
      "| ARG|           Argentina|South America|       South America|  2780400.0|   1816.0|  37032000|          75.1|340238.0|323310.0|           Argentina|    Federal Republic| Fernando de la RÃºa|   69.0|   AR|\n",
      "| ARM|             Armenia|         Asia|         Middle East|    29800.0|   1991.0|   3520000|          66.4|  1813.0|  1627.0|            Hajastan|            Republic|   Robert KotÂšarjan|  126.0|   AM|\n",
      "| ASM|      American Samoa|      Oceania|           Polynesia|      199.0|     null|     68000|          75.1|   334.0|    null|       Amerika Samoa|        US Territory|      George W. Bush|   54.0|   AS|\n",
      "| ATA|          Antarctica|   Antarctica|          Antarctica| 13120000.0|     null|         0|          null|     0.0|    null|                  Â–|    Co-administrated|                null|   null|   AQ|\n",
      "| ATF|French Southern t...|   Antarctica|          Antarctica|     7780.0|     null|         0|          null|     0.0|    null|Terres australes ...|Nonmetropolitan T...|      Jacques Chirac|   null|   TF|\n",
      "| ATG| Antigua and Barbuda|North America|           Caribbean|      442.0|   1981.0|     68000|          70.5|   612.0|   584.0| Antigua and Barbuda|Constitutional Mo...|        Elisabeth II|   63.0|   AG|\n",
      "| AUS|           Australia|      Oceania|Australia and New...|  7741220.0|   1901.0|  18886000|          79.8|351182.0|392911.0|           Australia|Constitutional Mo...|        Elisabeth II|  135.0|   AU|\n",
      "| AUT|             Austria|       Europe|      Western Europe|    83859.0|   1918.0|   8091800|          77.7|211860.0|206025.0|         Ã–sterreich|    Federal Republic|      Thomas Klestil| 1523.0|   AT|\n",
      "| AZE|          Azerbaijan|         Asia|         Middle East|    86600.0|   1991.0|   7734000|          62.9|  4127.0|  4100.0|         AzÃ¤rbaycan|    Federal Republic|     HeydÃ¤r Ã„liyev|  144.0|   AZ|\n",
      "| BDI|             Burundi|       Africa|      Eastern Africa|    27834.0|   1962.0|   6695000|          46.2|   903.0|   982.0|    Burundi/Uburundi|            Republic|       Pierre Buyoya|  552.0|   BI|\n",
      "| BEL|             Belgium|       Europe|      Western Europe|    30518.0|   1830.0|  10239000|          77.8|249704.0|243948.0|    BelgiÃ«/Belgique|Constitutional Mo...|           Albert II|  179.0|   BE|\n",
      "| BEN|               Benin|       Africa|      Western Africa|   112622.0|   1960.0|   6097000|          50.2|  2357.0|  2141.0|              BÃ©nin|            Republic|   Mathieu KÃ©rÃ©kou|  187.0|   BJ|\n",
      "+----+--------------------+-------------+--------------------+-----------+---------+----------+--------------+--------+--------+--------------------+--------------------+--------------------+-------+-----+\n",
      "only showing top 20 rows\n",
      "\n"
     ]
    }
   ],
   "source": [
    "countries_df.show()"
   ]
  },
  {
   "cell_type": "code",
   "execution_count": 17,
   "metadata": {},
   "outputs": [
    {
     "name": "stdout",
     "output_type": "stream",
     "text": [
      "+----+--------------------+----------+----------+-----------+---------+----------+--------------+---+------+--------------------+--------------------+--------------+-------+-----+\n",
      "|Code|                Name| Continent|    Region|SurfaceArea|IndepYear|Population|LifeExpectancy|GNP|GNPOld|           LocalName|      GovernmentForm|   HeadOfState|Capital|Code2|\n",
      "+----+--------------------+----------+----------+-----------+---------+----------+--------------+---+------+--------------------+--------------------+--------------+-------+-----+\n",
      "| ATA|          Antarctica|Antarctica|Antarctica| 13120000.0|     null|         0|          null|0.0|  null|                  Â–|    Co-administrated|          null|   null|   AQ|\n",
      "| ATF|French Southern t...|Antarctica|Antarctica|     7780.0|     null|         0|          null|0.0|  null|Terres australes ...|Nonmetropolitan T...|Jacques Chirac|   null|   TF|\n",
      "| BVT|       Bouvet Island|Antarctica|Antarctica|       59.0|     null|         0|          null|0.0|  null|          BouvetÃ¸ya|Dependent Territo...|      Harald V|   null|   BV|\n",
      "| HMD|Heard Island and ...|Antarctica|Antarctica|      359.0|     null|         0|          null|0.0|  null|Heard and McDonal...|Territory of Aust...|  Elisabeth II|   null|   HM|\n",
      "| SGS|South Georgia and...|Antarctica|Antarctica|     3903.0|     null|         0|          null|0.0|  null|South Georgia and...|Dependent Territo...|  Elisabeth II|   null|   GS|\n",
      "+----+--------------------+----------+----------+-----------+---------+----------+--------------+---+------+--------------------+--------------------+--------------+-------+-----+\n",
      "\n"
     ]
    }
   ],
   "source": [
    "countries_df.filter('Region == \"Antarctica\"').show()"
   ]
  },
  {
   "cell_type": "code",
   "execution_count": 15,
   "metadata": {},
   "outputs": [
    {
     "data": {
      "text/plain": [
       "239"
      ]
     },
     "execution_count": 15,
     "metadata": {},
     "output_type": "execute_result"
    }
   ],
   "source": [
    "countries_df.select(\"Code\").distinct().count()"
   ]
  },
  {
   "cell_type": "code",
   "execution_count": 19,
   "metadata": {},
   "outputs": [],
   "source": [
    "countries_df.createOrReplaceTempView(\"countries\")"
   ]
  },
  {
   "cell_type": "code",
   "execution_count": 24,
   "metadata": {},
   "outputs": [
    {
     "data": {
      "text/plain": [
       "[Row(GovernmentForm=\"People'sRepublic\"),\n",
       " Row(GovernmentForm='Federation'),\n",
       " Row(GovernmentForm='Commonwealth of the US'),\n",
       " Row(GovernmentForm='Constitutional Monarchy'),\n",
       " Row(GovernmentForm='Overseas Department of France'),\n",
       " Row(GovernmentForm='Islamic Emirate'),\n",
       " Row(GovernmentForm='Nonmetropolitan Territory of New Zealand'),\n",
       " Row(GovernmentForm='Constitutional Monarchy (Emirate)'),\n",
       " Row(GovernmentForm='Administrated by the UN'),\n",
       " Row(GovernmentForm='Territorial Collectivity of France'),\n",
       " Row(GovernmentForm='Emirate Federation'),\n",
       " Row(GovernmentForm='Parlementary Monarchy'),\n",
       " Row(GovernmentForm='Monarchy (Emirate)'),\n",
       " Row(GovernmentForm='Parliamentary Coprincipality'),\n",
       " Row(GovernmentForm='Dependent Territory of the UK'),\n",
       " Row(GovernmentForm='Islamic Republic'),\n",
       " Row(GovernmentForm='Co-administrated'),\n",
       " Row(GovernmentForm='Nonmetropolitan Territory of The Netherlands'),\n",
       " Row(GovernmentForm='Dependent Territory of Norway'),\n",
       " Row(GovernmentForm='Autonomous Area'),\n",
       " Row(GovernmentForm='Constitutional Monarchy, Federation'),\n",
       " Row(GovernmentForm='US Territory'),\n",
       " Row(GovernmentForm='Monarchy'),\n",
       " Row(GovernmentForm='Socialistic State'),\n",
       " Row(GovernmentForm='Monarchy (Sultanate)'),\n",
       " Row(GovernmentForm='Dependent Territory of the US'),\n",
       " Row(GovernmentForm='Special Administrative Region of China'),\n",
       " Row(GovernmentForm='Territory of Australia'),\n",
       " Row(GovernmentForm='Independent Church State'),\n",
       " Row(GovernmentForm='Nonmetropolitan Territory of France'),\n",
       " Row(GovernmentForm='Part of Denmark'),\n",
       " Row(GovernmentForm='Federal Republic'),\n",
       " Row(GovernmentForm='Republic'),\n",
       " Row(GovernmentForm='Socialistic Republic'),\n",
       " Row(GovernmentForm='Occupied by Marocco')]"
      ]
     },
     "execution_count": 24,
     "metadata": {},
     "output_type": "execute_result"
    }
   ],
   "source": [
    "spark.sql('SELECT DISTINCT(GovernmentForm) FROM countries').collect()"
   ]
  },
  {
   "cell_type": "code",
   "execution_count": 36,
   "metadata": {},
   "outputs": [
    {
     "name": "stdout",
     "output_type": "stream",
     "text": [
      "+-------------+--------------------+-------------------+------------------+\n",
      "|    Continent|     avg(Population)|avg(LifeExpectancy)|          avg(GNP)|\n",
      "+-------------+--------------------+-------------------+------------------+\n",
      "|       Europe|1.5871186956521738E7|  75.14772727272728| 206497.0652173913|\n",
      "|       Africa|1.3525431034482758E7| 52.571929824561394|10006.465517241379|\n",
      "|North America|1.3053864864864865E7|  72.99189189189188|261854.78918918918|\n",
      "|   Antarctica|                 0.0|               null|               0.0|\n",
      "|South America| 2.469857142857143E7|  70.94615384615386|          107991.0|\n",
      "|      Oceania|   1085755.357142857|             69.715|14991.953571428572|\n",
      "|         Asia| 7.264756274509804E7|  67.44117647058825|150105.72549019608|\n",
      "+-------------+--------------------+-------------------+------------------+\n",
      "\n"
     ]
    }
   ],
   "source": [
    "from pyspark.sql.types import DoubleType\n",
    "countries_df = countries_df.withColumn(\"LifeExpectancy\", countries_df[\"LifeExpectancy\"].cast(DoubleType()))\n",
    "countries_df = countries_df.withColumn(\"GNP\", countries_df[\"GNP\"].cast(DoubleType()))\n",
    "countries_df = countries_df.withColumn(\"Population\", countries_df[\"Population\"].cast(DoubleType()))\n",
    "countries_df.groupby('Continent').avg().show()"
   ]
  },
  {
   "cell_type": "code",
   "execution_count": 37,
   "metadata": {},
   "outputs": [
    {
     "data": {
      "text/html": [
       "<div>\n",
       "<style scoped>\n",
       "    .dataframe tbody tr th:only-of-type {\n",
       "        vertical-align: middle;\n",
       "    }\n",
       "\n",
       "    .dataframe tbody tr th {\n",
       "        vertical-align: top;\n",
       "    }\n",
       "\n",
       "    .dataframe thead th {\n",
       "        text-align: right;\n",
       "    }\n",
       "</style>\n",
       "<table border=\"1\" class=\"dataframe\">\n",
       "  <thead>\n",
       "    <tr style=\"text-align: right;\">\n",
       "      <th></th>\n",
       "      <th>Code</th>\n",
       "      <th>Name</th>\n",
       "      <th>Continent</th>\n",
       "      <th>Region</th>\n",
       "      <th>SurfaceArea</th>\n",
       "      <th>IndepYear</th>\n",
       "      <th>Population</th>\n",
       "      <th>LifeExpectancy</th>\n",
       "      <th>GNP</th>\n",
       "      <th>GNPOld</th>\n",
       "      <th>LocalName</th>\n",
       "      <th>GovernmentForm</th>\n",
       "      <th>HeadOfState</th>\n",
       "      <th>Capital</th>\n",
       "      <th>Code2</th>\n",
       "    </tr>\n",
       "  </thead>\n",
       "  <tbody>\n",
       "    <tr>\n",
       "      <th>0</th>\n",
       "      <td>ABW</td>\n",
       "      <td>Aruba</td>\n",
       "      <td>North America</td>\n",
       "      <td>Caribbean</td>\n",
       "      <td>193.0</td>\n",
       "      <td>None</td>\n",
       "      <td>103000.0</td>\n",
       "      <td>78.4</td>\n",
       "      <td>828.0</td>\n",
       "      <td>793.0</td>\n",
       "      <td>Aruba</td>\n",
       "      <td>Nonmetropolitan Territory of The Netherlands</td>\n",
       "      <td>Beatrix</td>\n",
       "      <td>129.0</td>\n",
       "      <td>AW</td>\n",
       "    </tr>\n",
       "    <tr>\n",
       "      <th>1</th>\n",
       "      <td>AFG</td>\n",
       "      <td>Afghanistan</td>\n",
       "      <td>Asia</td>\n",
       "      <td>Southern and Central Asia</td>\n",
       "      <td>652090.0</td>\n",
       "      <td>1919.0</td>\n",
       "      <td>22720000.0</td>\n",
       "      <td>45.9</td>\n",
       "      <td>5976.0</td>\n",
       "      <td>None</td>\n",
       "      <td>Afganistan/Afqanestan</td>\n",
       "      <td>Islamic Emirate</td>\n",
       "      <td>Mohammad Omar</td>\n",
       "      <td>1.0</td>\n",
       "      <td>AF</td>\n",
       "    </tr>\n",
       "    <tr>\n",
       "      <th>2</th>\n",
       "      <td>AGO</td>\n",
       "      <td>Angola</td>\n",
       "      <td>Africa</td>\n",
       "      <td>Central Africa</td>\n",
       "      <td>1246700.0</td>\n",
       "      <td>1975.0</td>\n",
       "      <td>12878000.0</td>\n",
       "      <td>38.3</td>\n",
       "      <td>6648.0</td>\n",
       "      <td>7984.0</td>\n",
       "      <td>Angola</td>\n",
       "      <td>Republic</td>\n",
       "      <td>JosÃ© Eduardo dos Santos</td>\n",
       "      <td>56.0</td>\n",
       "      <td>AO</td>\n",
       "    </tr>\n",
       "    <tr>\n",
       "      <th>3</th>\n",
       "      <td>AIA</td>\n",
       "      <td>Anguilla</td>\n",
       "      <td>North America</td>\n",
       "      <td>Caribbean</td>\n",
       "      <td>96.0</td>\n",
       "      <td>None</td>\n",
       "      <td>8000.0</td>\n",
       "      <td>76.1</td>\n",
       "      <td>63.2</td>\n",
       "      <td>None</td>\n",
       "      <td>Anguilla</td>\n",
       "      <td>Dependent Territory of the UK</td>\n",
       "      <td>Elisabeth II</td>\n",
       "      <td>62.0</td>\n",
       "      <td>AI</td>\n",
       "    </tr>\n",
       "    <tr>\n",
       "      <th>4</th>\n",
       "      <td>ALB</td>\n",
       "      <td>Albania</td>\n",
       "      <td>Europe</td>\n",
       "      <td>Southern Europe</td>\n",
       "      <td>28748.0</td>\n",
       "      <td>1912.0</td>\n",
       "      <td>3401200.0</td>\n",
       "      <td>71.6</td>\n",
       "      <td>3205.0</td>\n",
       "      <td>2500.0</td>\n",
       "      <td>ShqipÃ«ria</td>\n",
       "      <td>Republic</td>\n",
       "      <td>Rexhep Mejdani</td>\n",
       "      <td>34.0</td>\n",
       "      <td>AL</td>\n",
       "    </tr>\n",
       "  </tbody>\n",
       "</table>\n",
       "</div>"
      ],
      "text/plain": [
       "  Code         Name      Continent                     Region SurfaceArea  \\\n",
       "0  ABW        Aruba  North America                  Caribbean       193.0   \n",
       "1  AFG  Afghanistan           Asia  Southern and Central Asia    652090.0   \n",
       "2  AGO       Angola         Africa             Central Africa   1246700.0   \n",
       "3  AIA     Anguilla  North America                  Caribbean        96.0   \n",
       "4  ALB      Albania         Europe            Southern Europe     28748.0   \n",
       "\n",
       "  IndepYear  Population  LifeExpectancy     GNP  GNPOld  \\\n",
       "0      None    103000.0            78.4   828.0   793.0   \n",
       "1    1919.0  22720000.0            45.9  5976.0    None   \n",
       "2    1975.0  12878000.0            38.3  6648.0  7984.0   \n",
       "3      None      8000.0            76.1    63.2    None   \n",
       "4    1912.0   3401200.0            71.6  3205.0  2500.0   \n",
       "\n",
       "               LocalName                                GovernmentForm  \\\n",
       "0                  Aruba  Nonmetropolitan Territory of The Netherlands   \n",
       "1  Afganistan/Afqanestan                               Islamic Emirate   \n",
       "2                 Angola                                      Republic   \n",
       "3               Anguilla                 Dependent Territory of the UK   \n",
       "4             ShqipÃ«ria                                      Republic   \n",
       "\n",
       "                HeadOfState Capital Code2  \n",
       "0                   Beatrix   129.0    AW  \n",
       "1             Mohammad Omar     1.0    AF  \n",
       "2  JosÃ© Eduardo dos Santos    56.0    AO  \n",
       "3              Elisabeth II    62.0    AI  \n",
       "4            Rexhep Mejdani    34.0    AL  "
      ]
     },
     "execution_count": 37,
     "metadata": {},
     "output_type": "execute_result"
    }
   ],
   "source": [
    "pd_countries = countries_df.toPandas()\n",
    "\n",
    "pd_countries.head()"
   ]
  },
  {
   "cell_type": "code",
   "execution_count": 39,
   "metadata": {},
   "outputs": [
    {
     "data": {
      "text/plain": [
       "<matplotlib.axes._subplots.AxesSubplot at 0x25e37db66c8>"
      ]
     },
     "execution_count": 39,
     "metadata": {},
     "output_type": "execute_result"
    },
    {
     "data": {
      "image/png": "[encoded data removed]",
      "text/plain": [
       "<Figure size 432x288 with 1 Axes>"
      ]
     },
     "metadata": {
      "needs_background": "light"
     },
     "output_type": "display_data"
    }
   ],
   "source": [
    "pd_countries.sort_values('LifeExpectancy').plot(x='LifeExpectancy', y='GNP')"
   ]
  }
 ],
 "metadata": {
  "kernelspec": {
   "display_name": "Python 3",
   "language": "python",
   "name": "python3"
  },
  "language_info": {
   "codemirror_mode": {
    "name": "ipython",
    "version": 3
   },
   "file_extension": ".py",
   "mimetype": "text/x-python",
   "name": "python",
   "nbconvert_exporter": "python",
   "pygments_lexer": "ipython3",
   "version": "3.7.6"
  }
 },
 "nbformat": 4,
 "nbformat_minor": 4
}
