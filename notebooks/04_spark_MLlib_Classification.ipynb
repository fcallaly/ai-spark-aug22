{
 "cells": [
  {
   "cell_type": "markdown",
   "id": "bdaf800c",
   "metadata": {},
   "source": [
    "## Spark MLlib Classification example\n",
    "\n",
    "This notebook demonstrates the use of Spark MLlib features for binary classification\n"
   ]
  },
  {
   "cell_type": "code",
   "execution_count": 1,
   "id": "15f7af64",
   "metadata": {},
   "outputs": [],
   "source": [
    "from pyspark.sql.types import *\n",
    "from pyspark.sql.functions import *\n",
    "from pyspark.sql import SparkSession"
   ]
  },
  {
   "cell_type": "code",
   "execution_count": 2,
   "id": "d69923df",
   "metadata": {},
   "outputs": [
    {
     "name": "stderr",
     "output_type": "stream",
     "text": [
      "WARNING: An illegal reflective access operation has occurred\n",
      "WARNING: Illegal reflective access by org.apache.spark.unsafe.Platform (file:/home/trainer/.local/lib/python3.7/site-packages/pyspark/jars/spark-unsafe_2.12-3.2.0.jar) to constructor java.nio.DirectByteBuffer(long,int)\n",
      "WARNING: Please consider reporting this to the maintainers of org.apache.spark.unsafe.Platform\n",
      "WARNING: Use --illegal-access=warn to enable warnings of further illegal reflective access operations\n",
      "WARNING: All illegal access operations will be denied in a future release\n",
      "Using Spark's default log4j profile: org/apache/spark/log4j-defaults.properties\n",
      "Setting default log level to \"WARN\".\n",
      "To adjust logging level use sc.setLogLevel(newLevel). For SparkR, use setLogLevel(newLevel).\n",
      "22/03/24 05:13:09 WARN NativeCodeLoader: Unable to load native-hadoop library for your platform... using builtin-java classes where applicable\n"
     ]
    }
   ],
   "source": [
    "spark = SparkSession.builder.master('spark://spark-master:7077')\\\n",
    "                            .appName('flightArrivalTimeClassification').getOrCreate()"
   ]
  },
  {
   "cell_type": "code",
   "execution_count": 3,
   "id": "7bda2117",
   "metadata": {},
   "outputs": [
    {
     "name": "stderr",
     "output_type": "stream",
     "text": [
      "                                                                                \r"
     ]
    }
   ],
   "source": [
    "flights = spark.read.csv('hdfs://spark-master:9000/user/trainer/data/flights.csv', inferSchema=True, header=True)"
   ]
  },
  {
   "cell_type": "code",
   "execution_count": 4,
   "id": "e407bfde",
   "metadata": {},
   "outputs": [
    {
     "name": "stdout",
     "output_type": "stream",
     "text": [
      "root\n",
      " |-- DayofMonth: integer (nullable = true)\n",
      " |-- DayOfWeek: integer (nullable = true)\n",
      " |-- Carrier: string (nullable = true)\n",
      " |-- OriginAirportID: integer (nullable = true)\n",
      " |-- DestAirportID: integer (nullable = true)\n",
      " |-- DepDelay: integer (nullable = true)\n",
      " |-- ArrDelay: integer (nullable = true)\n",
      "\n"
     ]
    }
   ],
   "source": [
    "flights.printSchema()"
   ]
  },
  {
   "cell_type": "code",
   "execution_count": 5,
   "id": "6f52eadb",
   "metadata": {},
   "outputs": [
    {
     "name": "stdout",
     "output_type": "stream",
     "text": [
      "+----------+---------+-------+---------------+-------------+--------+--------+\n",
      "|DayofMonth|DayOfWeek|Carrier|OriginAirportID|DestAirportID|DepDelay|ArrDelay|\n",
      "+----------+---------+-------+---------------+-------------+--------+--------+\n",
      "|        19|        5|     DL|          11433|        13303|      -3|       1|\n",
      "|        19|        5|     DL|          14869|        12478|       0|      -8|\n",
      "|        19|        5|     DL|          14057|        14869|      -4|     -15|\n",
      "|        19|        5|     DL|          15016|        11433|      28|      24|\n",
      "|        19|        5|     DL|          11193|        12892|      -6|     -11|\n",
      "|        19|        5|     DL|          10397|        15016|      -1|     -19|\n",
      "|        19|        5|     DL|          15016|        10397|       0|      -1|\n",
      "|        19|        5|     DL|          10397|        14869|      15|      24|\n",
      "|        19|        5|     DL|          10397|        10423|      33|      34|\n",
      "|        19|        5|     DL|          11278|        10397|     323|     322|\n",
      "|        19|        5|     DL|          14107|        13487|      -7|     -13|\n",
      "|        19|        5|     DL|          11433|        11298|      22|      41|\n",
      "|        19|        5|     DL|          11298|        11433|      40|      20|\n",
      "|        19|        5|     DL|          11433|        12892|      -2|      -7|\n",
      "|        19|        5|     DL|          10397|        12451|      71|      75|\n",
      "|        19|        5|     DL|          12451|        10397|      75|      57|\n",
      "|        19|        5|     DL|          12953|        10397|      -1|      10|\n",
      "|        19|        5|     DL|          11433|        12953|      -3|     -10|\n",
      "|        19|        5|     DL|          10397|        14771|      31|      38|\n",
      "|        19|        5|     DL|          13204|        10397|       8|      25|\n",
      "+----------+---------+-------+---------------+-------------+--------+--------+\n",
      "only showing top 20 rows\n",
      "\n"
     ]
    }
   ],
   "source": [
    "flights.show()"
   ]
  },
  {
   "cell_type": "markdown",
   "id": "dc0bbe8f",
   "metadata": {},
   "source": [
    "label each data point as to whether arrival was 15mins delayed or not"
   ]
  },
  {
   "cell_type": "code",
   "execution_count": 6,
   "id": "725128ea",
   "metadata": {},
   "outputs": [
    {
     "name": "stdout",
     "output_type": "stream",
     "text": [
      "+----------+---------+-------+---------------+-------------+--------+-----+\n",
      "|DayofMonth|DayOfWeek|Carrier|OriginAirportID|DestAirportID|DepDelay|label|\n",
      "+----------+---------+-------+---------------+-------------+--------+-----+\n",
      "|        19|        5|     DL|          11433|        13303|      -3|    0|\n",
      "|        19|        5|     DL|          14869|        12478|       0|    0|\n",
      "|        19|        5|     DL|          14057|        14869|      -4|    0|\n",
      "|        19|        5|     DL|          15016|        11433|      28|    1|\n",
      "|        19|        5|     DL|          11193|        12892|      -6|    0|\n",
      "|        19|        5|     DL|          10397|        15016|      -1|    0|\n",
      "|        19|        5|     DL|          15016|        10397|       0|    0|\n",
      "|        19|        5|     DL|          10397|        14869|      15|    1|\n",
      "|        19|        5|     DL|          10397|        10423|      33|    1|\n",
      "|        19|        5|     DL|          11278|        10397|     323|    1|\n",
      "+----------+---------+-------+---------------+-------------+--------+-----+\n",
      "only showing top 10 rows\n",
      "\n"
     ]
    }
   ],
   "source": [
    "labelled = flights.select(\"DayofMonth\", \"DayOfWeek\", \"Carrier\", \"OriginAirportID\", \"DestAirportID\", \"DepDelay\",\n",
    "                          ((col(\"ArrDelay\") > 15).cast(\"Int\").alias(\"label\")))\n",
    "\n",
    "labelled.show(10)"
   ]
  },
  {
   "cell_type": "markdown",
   "id": "d60d90a5",
   "metadata": {},
   "source": [
    "train-test split. Here, we're using a random 70/30 split. making use of sparks `randomSplit` function\n",
    "\n",
    "Note how `randomSplit` is a function on the dataframe"
   ]
  },
  {
   "cell_type": "code",
   "execution_count": 7,
   "id": "4f30bb37",
   "metadata": {},
   "outputs": [
    {
     "name": "stderr",
     "output_type": "stream",
     "text": [
      "[Stage 7:=============================>                             (1 + 1) / 2]\r"
     ]
    },
    {
     "name": "stdout",
     "output_type": "stream",
     "text": [
      "Training Rows: 1891168  Testing Rows: 811050\n"
     ]
    },
    {
     "name": "stderr",
     "output_type": "stream",
     "text": [
      "                                                                                \r"
     ]
    }
   ],
   "source": [
    "splits = labelled.randomSplit([0.7, 0.3])\n",
    "\n",
    "train = splits[0]\n",
    "test = splits[1].withColumnRenamed(\"label\", \"trueLabel\")\n",
    "\n",
    "train_rows = train.count()\n",
    "test_rows = test.count()\n",
    "\n",
    "print(\"Training Rows:\", train_rows, \" Testing Rows:\", test_rows)"
   ]
  },
  {
   "cell_type": "markdown",
   "id": "491918d0",
   "metadata": {},
   "source": [
    "#### Define the Pipeline\n",
    "\n",
    "A pipeline consists of a series of transformer and estimator stages that typically prepare a DataFrame for modeling and then train a predictive model. In this case, you will create a pipeline with seven stages:\n",
    "\n",
    "- A StringIndexer estimator that converts string values to indexes for categorical features\n",
    "- A VectorAssembler that combines categorical features into a single vector\n",
    "- A VectorIndexer that creates indexes for a vector of categorical features\n",
    "- A VectorAssembler that creates a vector of continuous numeric features\n",
    "- A MinMaxScaler that normalizes continuous numeric features\n",
    "- A VectorAssembler that creates a vector of categorical and continuous features\n",
    "- A DecisionTreeClassifier that trains a classification model."
   ]
  },
  {
   "cell_type": "code",
   "execution_count": 8,
   "id": "b60f0fd7",
   "metadata": {},
   "outputs": [],
   "source": [
    "from pyspark.ml import Pipeline\n",
    "#from pyspark.ml.classification import DecisionTreeClassifier\n",
    "from pyspark.ml.feature import VectorAssembler, StringIndexer, VectorIndexer, MinMaxScaler\n",
    "from pyspark.ml.classification import LogisticRegression\n",
    "from pyspark.ml.tuning import ParamGridBuilder, CrossValidator\n",
    "from pyspark.ml.evaluation import BinaryClassificationEvaluator"
   ]
  },
  {
   "cell_type": "code",
   "execution_count": 9,
   "id": "c38b92b2",
   "metadata": {},
   "outputs": [],
   "source": [
    "strIdx = StringIndexer(inputCol = \"Carrier\", outputCol = \"CarrierIdx\")\n",
    "\n",
    "catVect = VectorAssembler(inputCols = [\"CarrierIdx\", \"DayofMonth\", \"DayOfWeek\", \"OriginAirportID\", \"DestAirportID\"], outputCol=\"catFeatures\")\n",
    "\n",
    "catIdx = VectorIndexer(inputCol = catVect.getOutputCol(), outputCol = \"idxCatFeatures\")\n",
    "\n",
    "numVect = VectorAssembler(inputCols = [\"DepDelay\"], outputCol=\"numFeatures\")\n",
    "\n",
    "minMax = MinMaxScaler(inputCol = numVect.getOutputCol(), outputCol=\"normFeatures\")\n",
    "\n",
    "featVect = VectorAssembler(inputCols=[\"idxCatFeatures\", \"normFeatures\"], outputCol=\"features\")"
   ]
  },
  {
   "cell_type": "markdown",
   "id": "071842d8",
   "metadata": {},
   "source": [
    "create model object and build the pipeline"
   ]
  },
  {
   "cell_type": "code",
   "execution_count": 10,
   "id": "c4852072",
   "metadata": {},
   "outputs": [],
   "source": [
    "lr = LogisticRegression(labelCol=\"label\",featuresCol=\"features\",maxIter=10,regParam=0.3)\n",
    "\n",
    "# an alternative model\n",
    "#dt = DecisionTreeClassifier(labelCol=\"label\", featuresCol=\"features\")\n",
    "\n",
    "pipeline = Pipeline(stages=[strIdx, catVect, catIdx, numVect, minMax, featVect, lr])"
   ]
  },
  {
   "cell_type": "markdown",
   "id": "280185ae",
   "metadata": {},
   "source": [
    "This is the line that will require processing resources"
   ]
  },
  {
   "cell_type": "code",
   "execution_count": 11,
   "id": "e8ebd228",
   "metadata": {},
   "outputs": [
    {
     "name": "stderr",
     "output_type": "stream",
     "text": [
      "                                                                                \r"
     ]
    }
   ],
   "source": [
    "pipelineModel = pipeline.fit(train)\n"
   ]
  },
  {
   "cell_type": "markdown",
   "id": "c7c7ef29",
   "metadata": {},
   "source": [
    "Now we will get the trained model to give it's predictions for the test data"
   ]
  },
  {
   "cell_type": "code",
   "execution_count": 12,
   "id": "63b37564",
   "metadata": {},
   "outputs": [
    {
     "name": "stderr",
     "output_type": "stream",
     "text": [
      "[Stage 27:>                                                         (0 + 1) / 1]\r"
     ]
    },
    {
     "name": "stdout",
     "output_type": "stream",
     "text": [
      "+----------+---------+-------+---------------+-------------+--------+---------+----------+--------------------+--------------------+-----------+--------------------+--------------------+--------------------+--------------------+----------+\n",
      "|DayofMonth|DayOfWeek|Carrier|OriginAirportID|DestAirportID|DepDelay|trueLabel|CarrierIdx|         catFeatures|      idxCatFeatures|numFeatures|        normFeatures|            features|       rawPrediction|         probability|prediction|\n",
      "+----------+---------+-------+---------------+-------------+--------+---------+----------+--------------------+--------------------+-----------+--------------------+--------------------+--------------------+--------------------+----------+\n",
      "|         1|        1|     9E|          10423|        11433|      -5|        0|      10.0|[10.0,1.0,1.0,104...|[10.0,1.0,0.0,104...|     [-5.0]|[0.03011422637590...|[10.0,1.0,0.0,104...|[1.62736339397519...|[0.83580812997316...|       0.0|\n",
      "|         1|        1|     9E|          10423|        13487|     -10|        0|      10.0|[10.0,1.0,1.0,104...|[10.0,1.0,0.0,104...|    [-10.0]|[0.02751817237798...|[10.0,1.0,0.0,104...|[1.69909415116069...|[0.84541638881766...|       0.0|\n",
      "|         1|        1|     9E|          10423|        13487|      -7|        0|      10.0|[10.0,1.0,1.0,104...|[10.0,1.0,0.0,104...|     [-7.0]|[0.02907580477673...|[10.0,1.0,0.0,104...|[1.65704833999805...|[0.83984137979439...|       0.0|\n",
      "|         1|        1|     9E|          10423|        13487|      -4|        0|      10.0|[10.0,1.0,1.0,104...|[10.0,1.0,0.0,104...|     [-4.0]|[0.03063343717549...|[10.0,1.0,0.0,104...|[1.61500252883542...|[0.83410476382687...|       0.0|\n",
      "|         1|        1|     9E|          10529|        11193|      -5|        0|      10.0|[10.0,1.0,1.0,105...|[10.0,1.0,0.0,105...|     [-5.0]|[0.03011422637590...|[10.0,1.0,0.0,105...|[1.62809072675169...|[0.83590791958179...|       0.0|\n",
      "|         1|        1|     9E|          10529|        11193|      -4|        0|      10.0|[10.0,1.0,1.0,105...|[10.0,1.0,0.0,105...|     [-4.0]|[0.03063343717549...|[10.0,1.0,0.0,105...|[1.61407545636415...|[0.83397644135711...|       0.0|\n",
      "|         1|        1|     9E|          10529|        11193|      37|        1|      10.0|[10.0,1.0,1.0,105...|[10.0,1.0,0.0,105...|     [37.0]|[0.05192107995846...|[10.0,1.0,0.0,105...|[1.03944937047478...|[0.73874374777372...|       0.0|\n",
      "|         1|        1|     9E|          10529|        13487|      -4|        1|      10.0|[10.0,1.0,1.0,105...|[10.0,1.0,0.0,105...|     [-4.0]|[0.03063343717549...|[10.0,1.0,0.0,105...|[1.61592317089112...|[0.83423211757508...|       0.0|\n",
      "|         1|        1|     9E|          10529|        14492|      20|        1|      10.0|[10.0,1.0,1.0,105...|[10.0,1.0,0.0,105...|     [20.0]|[0.0430944963655244]|[10.0,1.0,0.0,105...|[1.28036616419666...|[0.78251209922402...|       0.0|\n",
      "|         1|        1|     9E|          10693|        12478|       8|        0|      10.0|[10.0,1.0,1.0,106...|[10.0,1.0,0.0,106...|      [8.0]|[0.03686396677050...|[10.0,1.0,0.0,106...|[1.44835161140824...|[0.80974461573683...|       0.0|\n",
      "|         1|        1|     9E|          10693|        12478|     175|        1|      10.0|[10.0,1.0,1.0,106...|[10.0,1.0,0.0,106...|    [175.0]|[0.12357217030114...|[10.0,1.0,0.0,106...|[-0.8921985433118...|[0.29065633372391...|       1.0|\n",
      "|         1|        1|     9E|          10693|        13487|      -4|        0|      10.0|[10.0,1.0,1.0,106...|[10.0,1.0,0.0,106...|     [-4.0]|[0.03063343717549...|[10.0,1.0,0.0,106...|[1.61734756048673...|[0.83442900106850...|       0.0|\n",
      "|         1|        1|     9E|          10721|        11066|      -1|        0|      10.0|[10.0,1.0,1.0,107...|[10.0,1.0,0.0,107...|     [-1.0]|[0.03219106957424...|[10.0,1.0,0.0,107...|[1.57359493043776...|[0.82829549028988...|       0.0|\n",
      "|         1|        1|     9E|          10721|        12478|       1|        0|      10.0|[10.0,1.0,1.0,107...|[10.0,1.0,0.0,107...|      [1.0]|[0.03322949117341...|[10.0,1.0,0.0,107...|[1.54670169258860...|[0.82443684314492...|       0.0|\n",
      "|         1|        1|     9E|          10721|        12478|       8|        1|      10.0|[10.0,1.0,1.0,107...|[10.0,1.0,0.0,107...|      [8.0]|[0.03686396677050...|[10.0,1.0,0.0,107...|[1.44859479987578...|[0.80978207811007...|       0.0|\n",
      "|         1|        1|     9E|          10792|        11433|      -6|        0|      10.0|[10.0,1.0,1.0,107...|[10.0,1.0,0.0,107...|     [-6.0]|[0.02959501557632...|[10.0,1.0,0.0,107...|[1.64458354095286...|[0.83815765609620...|       0.0|\n",
      "|         1|        1|     9E|          10821|        11193|     -10|        0|      10.0|[10.0,1.0,1.0,108...|[10.0,1.0,0.0,108...|    [-10.0]|[0.02751817237798...|[10.0,1.0,0.0,108...|[1.70070318699381...|[0.84562655286575...|       0.0|\n",
      "|         1|        1|     9E|          10821|        11193|      -2|        0|      10.0|[10.0,1.0,1.0,108...|[10.0,1.0,0.0,108...|     [-2.0]|[0.03167185877466...|[10.0,1.0,0.0,108...|[1.58858102389344...|[0.83041636940260...|       0.0|\n",
      "|         1|        1|     9E|          10821|        11193|      88|        1|      10.0|[10.0,1.0,1.0,108...|[10.0,1.0,0.0,108...|     [88.0]|[0.07840083073727...|[10.0,1.0,0.0,108...|[0.32720668901435...|[0.58107956643738...|       0.0|\n",
      "|         1|        1|     9E|          10821|        11193|     254|        1|      10.0|[10.0,1.0,1.0,108...|[10.0,1.0,0.0,108...|    [254.0]|[0.16458982346832...|[10.0,1.0,0.0,108...|[-1.9993281953182...|[0.11927347525071...|       1.0|\n",
      "+----------+---------+-------+---------------+-------------+--------+---------+----------+--------------------+--------------------+-----------+--------------------+--------------------+--------------------+--------------------+----------+\n",
      "only showing top 20 rows\n",
      "\n"
     ]
    },
    {
     "name": "stderr",
     "output_type": "stream",
     "text": [
      "                                                                                \r"
     ]
    }
   ],
   "source": [
    "prediction = pipelineModel.transform(test)\n",
    "\n",
    "prediction.show()"
   ]
  },
  {
   "cell_type": "code",
   "execution_count": 13,
   "id": "34f9b1dd",
   "metadata": {},
   "outputs": [
    {
     "name": "stderr",
     "output_type": "stream",
     "text": [
      "[Stage 28:>                                                         (0 + 1) / 1]\r"
     ]
    },
    {
     "name": "stdout",
     "output_type": "stream",
     "text": [
      "+---------------------------------------------------+----------+---------+\n",
      "|features                                           |prediction|trueLabel|\n",
      "+---------------------------------------------------+----------+---------+\n",
      "|[10.0,1.0,0.0,10423.0,11433.0,0.030114226375908618]|0.0       |0        |\n",
      "|[10.0,1.0,0.0,10423.0,13487.0,0.027518172377985463]|0.0       |0        |\n",
      "|[10.0,1.0,0.0,10423.0,13487.0,0.029075804776739357]|0.0       |0        |\n",
      "|[10.0,1.0,0.0,10423.0,13487.0,0.030633437175493248]|0.0       |0        |\n",
      "|[10.0,1.0,0.0,10529.0,11193.0,0.030114226375908618]|0.0       |0        |\n",
      "|[10.0,1.0,0.0,10529.0,11193.0,0.030633437175493248]|0.0       |0        |\n",
      "|[10.0,1.0,0.0,10529.0,11193.0,0.05192107995846314] |0.0       |1        |\n",
      "|[10.0,1.0,0.0,10529.0,13487.0,0.030633437175493248]|0.0       |1        |\n",
      "|[10.0,1.0,0.0,10529.0,14492.0,0.0430944963655244]  |0.0       |1        |\n",
      "|[10.0,1.0,0.0,10693.0,12478.0,0.03686396677050883] |0.0       |0        |\n",
      "|[10.0,1.0,0.0,10693.0,12478.0,0.12357217030114226] |1.0       |1        |\n",
      "|[10.0,1.0,0.0,10693.0,13487.0,0.030633437175493248]|0.0       |0        |\n",
      "|[10.0,1.0,0.0,10721.0,11066.0,0.032191069574247146]|0.0       |0        |\n",
      "|[10.0,1.0,0.0,10721.0,12478.0,0.033229491173416406]|0.0       |0        |\n",
      "|[10.0,1.0,0.0,10721.0,12478.0,0.03686396677050883] |0.0       |1        |\n",
      "|[10.0,1.0,0.0,10792.0,11433.0,0.029595015576323987]|0.0       |0        |\n",
      "|[10.0,1.0,0.0,10821.0,11193.0,0.027518172377985463]|0.0       |0        |\n",
      "|[10.0,1.0,0.0,10821.0,11193.0,0.03167185877466251] |0.0       |0        |\n",
      "|[10.0,1.0,0.0,10821.0,11193.0,0.07840083073727934] |0.0       |1        |\n",
      "|[10.0,1.0,0.0,10821.0,11193.0,0.16458982346832815] |1.0       |1        |\n",
      "|[10.0,1.0,0.0,10821.0,12478.0,0.027518172377985463]|0.0       |0        |\n",
      "|[10.0,1.0,0.0,10821.0,13487.0,0.06749740394600208] |0.0       |1        |\n",
      "|[10.0,1.0,0.0,10821.0,14492.0,0.03167185877466251] |0.0       |0        |\n",
      "|[10.0,1.0,0.0,11042.0,11433.0,0.059190031152647975]|0.0       |1        |\n",
      "|[10.0,1.0,0.0,11042.0,12478.0,0.030114226375908618]|0.0       |0        |\n",
      "|[10.0,1.0,0.0,11042.0,13487.0,0.028037383177570093]|0.0       |0        |\n",
      "|[10.0,1.0,0.0,11057.0,11193.0,0.029075804776739357]|0.0       |0        |\n",
      "|[10.0,1.0,0.0,11057.0,11193.0,0.030114226375908618]|0.0       |0        |\n",
      "|[10.0,1.0,0.0,11057.0,11193.0,0.03167185877466251] |0.0       |0        |\n",
      "|[10.0,1.0,0.0,11066.0,13487.0,0.030114226375908618]|0.0       |0        |\n",
      "|[10.0,1.0,0.0,11066.0,13487.0,0.03115264797507788] |0.0       |0        |\n",
      "|[10.0,1.0,0.0,11066.0,13487.0,0.032191069574247146]|0.0       |0        |\n",
      "|[10.0,1.0,0.0,11193.0,10529.0,0.029595015576323987]|0.0       |0        |\n",
      "|[10.0,1.0,0.0,11193.0,10529.0,0.04880581516095535] |0.0       |1        |\n",
      "|[10.0,1.0,0.0,11193.0,10721.0,0.03946002076843198] |0.0       |0        |\n",
      "|[10.0,1.0,0.0,11193.0,10821.0,0.030633437175493248]|0.0       |0        |\n",
      "|[10.0,1.0,0.0,11193.0,11057.0,0.027518172377985463]|0.0       |0        |\n",
      "|[10.0,1.0,0.0,11193.0,11057.0,0.033229491173416406]|0.0       |0        |\n",
      "|[10.0,1.0,0.0,11193.0,11278.0,0.03115264797507788] |0.0       |0        |\n",
      "|[10.0,1.0,0.0,11193.0,11298.0,0.03115264797507788] |0.0       |0        |\n",
      "|[10.0,1.0,0.0,11193.0,11433.0,0.027518172377985463]|0.0       |0        |\n",
      "|[10.0,1.0,0.0,11193.0,11433.0,0.029595015576323987]|0.0       |0        |\n",
      "|[10.0,1.0,0.0,11193.0,11433.0,0.030114226375908618]|0.0       |0        |\n",
      "|[10.0,1.0,0.0,11193.0,11433.0,0.030633437175493248]|0.0       |0        |\n",
      "|[10.0,1.0,0.0,11193.0,11433.0,0.037383177570093455]|0.0       |0        |\n",
      "|[10.0,1.0,0.0,11193.0,11618.0,0.030114226375908618]|0.0       |0        |\n",
      "|[10.0,1.0,0.0,11193.0,11618.0,0.041536863966770504]|0.0       |0        |\n",
      "|[10.0,1.0,0.0,11193.0,12451.0,0.030114226375908618]|0.0       |0        |\n",
      "|[10.0,1.0,0.0,11193.0,12478.0,0.03271028037383177] |0.0       |0        |\n",
      "|[10.0,1.0,0.0,11193.0,13198.0,0.027518172377985463]|0.0       |0        |\n",
      "|[10.0,1.0,0.0,11193.0,13244.0,0.028037383177570093]|0.0       |0        |\n",
      "|[10.0,1.0,0.0,11193.0,13244.0,0.03167185877466251] |0.0       |0        |\n",
      "|[10.0,1.0,0.0,11193.0,13244.0,0.03426791277258567] |0.0       |0        |\n",
      "|[10.0,1.0,0.0,11193.0,13487.0,0.029075804776739357]|0.0       |0        |\n",
      "|[10.0,1.0,0.0,11193.0,13487.0,0.029595015576323987]|0.0       |0        |\n",
      "|[10.0,1.0,0.0,11193.0,13487.0,0.03115264797507788] |0.0       |0        |\n",
      "|[10.0,1.0,0.0,11193.0,13495.0,0.03115264797507788] |0.0       |1        |\n",
      "|[10.0,1.0,0.0,11193.0,13930.0,0.029595015576323987]|0.0       |0        |\n",
      "|[10.0,1.0,0.0,11193.0,13930.0,0.030633437175493248]|0.0       |0        |\n",
      "|[10.0,1.0,0.0,11193.0,13930.0,0.04880581516095535] |0.0       |1        |\n",
      "|[10.0,1.0,0.0,11193.0,13930.0,0.07217030114226376] |0.0       |1        |\n",
      "|[10.0,1.0,0.0,11193.0,14100.0,0.029075804776739357]|0.0       |0        |\n",
      "|[10.0,1.0,0.0,11193.0,14100.0,0.03271028037383177] |0.0       |0        |\n",
      "|[10.0,1.0,0.0,11193.0,14122.0,0.049325025960539975]|0.0       |1        |\n",
      "|[10.0,1.0,0.0,11193.0,14492.0,0.04620976116303219] |0.0       |1        |\n",
      "|[10.0,1.0,0.0,11193.0,15016.0,0.028556593977154723]|0.0       |0        |\n",
      "|[10.0,1.0,0.0,11193.0,15016.0,0.030633437175493248]|0.0       |0        |\n",
      "|[10.0,1.0,0.0,11278.0,11193.0,0.10020768431983385] |1.0       |1        |\n",
      "|[10.0,1.0,0.0,11278.0,12478.0,0.030114226375908618]|0.0       |1        |\n",
      "|[10.0,1.0,0.0,11278.0,12478.0,0.03426791277258567] |0.0       |0        |\n",
      "|[10.0,1.0,0.0,11278.0,12478.0,0.0628245067497404]  |0.0       |1        |\n",
      "|[10.0,1.0,0.0,11278.0,13244.0,0.04776739356178608] |0.0       |1        |\n",
      "|[10.0,1.0,0.0,11298.0,11193.0,0.04776739356178608] |0.0       |0        |\n",
      "|[10.0,1.0,0.0,11298.0,12478.0,0.030114226375908618]|0.0       |0        |\n",
      "|[10.0,1.0,0.0,11298.0,13487.0,0.030633437175493248]|0.0       |0        |\n",
      "|[10.0,1.0,0.0,11298.0,13487.0,0.03115264797507788] |0.0       |0        |\n",
      "|[10.0,1.0,0.0,11433.0,10529.0,0.03374870197300104] |0.0       |0        |\n",
      "|[10.0,1.0,0.0,11433.0,10792.0,0.03115264797507788] |0.0       |0        |\n",
      "|[10.0,1.0,0.0,11433.0,11042.0,0.030114226375908618]|0.0       |0        |\n",
      "|[10.0,1.0,0.0,11433.0,11042.0,0.0347871235721703]  |0.0       |0        |\n",
      "|[10.0,1.0,0.0,11433.0,11193.0,0.03115264797507788] |0.0       |0        |\n",
      "|[10.0,1.0,0.0,11433.0,11193.0,0.03686396677050883] |0.0       |0        |\n",
      "|[10.0,1.0,0.0,11433.0,11193.0,0.07528556593977155] |0.0       |1        |\n",
      "|[10.0,1.0,0.0,11433.0,11298.0,0.03271028037383177] |0.0       |0        |\n",
      "|[10.0,1.0,0.0,11433.0,12264.0,0.03167185877466251] |0.0       |0        |\n",
      "|[10.0,1.0,0.0,11433.0,12266.0,0.033229491173416406]|0.0       |1        |\n",
      "|[10.0,1.0,0.0,11433.0,12339.0,0.030633437175493248]|0.0       |0        |\n",
      "|[10.0,1.0,0.0,11433.0,12339.0,0.032191069574247146]|0.0       |0        |\n",
      "|[10.0,1.0,0.0,11433.0,12339.0,0.04205607476635514] |0.0       |0        |\n",
      "|[10.0,1.0,0.0,11433.0,13232.0,0.03115264797507788] |0.0       |0        |\n",
      "|[10.0,1.0,0.0,11433.0,13244.0,0.045171339563862926]|0.0       |1        |\n",
      "|[10.0,1.0,0.0,11433.0,13342.0,0.03167185877466251] |0.0       |0        |\n",
      "|[10.0,1.0,0.0,11433.0,13851.0,0.033229491173416406]|0.0       |0        |\n",
      "|[10.0,1.0,0.0,11433.0,13871.0,0.030633437175493248]|0.0       |0        |\n",
      "|[10.0,1.0,0.0,11433.0,13871.0,0.0347871235721703]  |0.0       |0        |\n",
      "|[10.0,1.0,0.0,11433.0,13931.0,0.030114226375908618]|0.0       |0        |\n",
      "|[10.0,1.0,0.0,11433.0,13931.0,0.03426791277258567] |0.0       |0        |\n",
      "|[10.0,1.0,0.0,11433.0,14100.0,0.03115264797507788] |0.0       |0        |\n",
      "|[10.0,1.0,0.0,11433.0,14100.0,0.037383177570093455]|0.0       |0        |\n",
      "|[10.0,1.0,0.0,11433.0,14100.0,0.03790238836967809] |0.0       |0        |\n",
      "+---------------------------------------------------+----------+---------+\n",
      "only showing top 100 rows\n",
      "\n"
     ]
    },
    {
     "name": "stderr",
     "output_type": "stream",
     "text": [
      "                                                                                \r"
     ]
    }
   ],
   "source": [
    "# display a little clearer\n",
    "# select features, prediction and trueLabel\n",
    "predicted = prediction.select(\"features\", \"prediction\", \"trueLabel\")\n",
    "\n",
    "predicted.show(100, truncate=False)"
   ]
  },
  {
   "cell_type": "markdown",
   "id": "89bf5b4a",
   "metadata": {},
   "source": [
    "To evaluate the accuracty, we can create some metrics, calculate:\n",
    "\n",
    "- true positives\n",
    "- true negatives\n",
    "- false positives\n",
    "- false negatives"
   ]
  },
  {
   "cell_type": "code",
   "execution_count": 14,
   "id": "60302470",
   "metadata": {},
   "outputs": [
    {
     "name": "stderr",
     "output_type": "stream",
     "text": [
      "                                                                                \r"
     ]
    },
    {
     "name": "stdout",
     "output_type": "stream",
     "text": [
      "+---------+-------------------+\n",
      "|   metric|              value|\n",
      "+---------+-------------------+\n",
      "|       TP|            19188.0|\n",
      "|       FP|               77.0|\n",
      "|       TN|           649193.0|\n",
      "|       FN|           142592.0|\n",
      "|Precision| 0.9960031144562679|\n",
      "|   Recall|0.11860551366052664|\n",
      "|       F1|0.21196939987295976|\n",
      "+---------+-------------------+\n",
      "\n"
     ]
    }
   ],
   "source": [
    "tp = float(predicted.filter(\"prediction == 1.0 AND truelabel == 1\").count())\n",
    "fp = float(predicted.filter(\"prediction == 1.0 AND truelabel == 0\").count())\n",
    "tn = float(predicted.filter(\"prediction == 0.0 AND truelabel == 0\").count())\n",
    "fn = float(predicted.filter(\"prediction == 0.0 AND truelabel == 1\").count())\n",
    "\n",
    "pr = tp / (tp + fp)\n",
    "re = tp / (tp + fn)\n",
    "\n",
    "metrics = spark.createDataFrame([\n",
    " (\"TP\", tp),\n",
    " (\"FP\", fp),\n",
    " (\"TN\", tn),\n",
    " (\"FN\", fn),\n",
    " (\"Precision\", pr),\n",
    " (\"Recall\", re),\n",
    " (\"F1\", 2*pr*re/(re+pr))],[\"metric\", \"value\"])\n",
    "\n",
    "metrics.show()"
   ]
  },
  {
   "cell_type": "markdown",
   "id": "8ec1338b",
   "metadata": {},
   "source": [
    "#### Further improvements\n",
    "\n",
    "We could review the Area Under ROC\n",
    "\n",
    "Another way to assess the performance of a classification model is to measure the area under a ROC (Receiver Operating Characteristic) curve for the model. the spark.ml library includes a BinaryClassificationEvaluator class that we can use to compute this.\n",
    "\n",
    "The ROC curve shows the True Positive and False Positive rates plotted for varying thresholds.\n",
    "\n"
   ]
  },
  {
   "cell_type": "code",
   "execution_count": 15,
   "id": "0695b2a7",
   "metadata": {},
   "outputs": [
    {
     "name": "stderr",
     "output_type": "stream",
     "text": [
      "[Stage 53:>                                                         (0 + 2) / 2]\r"
     ]
    },
    {
     "name": "stdout",
     "output_type": "stream",
     "text": [
      "AUR =  0.922612814761315\n"
     ]
    },
    {
     "name": "stderr",
     "output_type": "stream",
     "text": [
      "                                                                                \r"
     ]
    }
   ],
   "source": [
    "evaluator = BinaryClassificationEvaluator(labelCol=\"trueLabel\", rawPredictionCol=\"rawPrediction\", metricName=\"areaUnderROC\")\n",
    "aur = evaluator.evaluate(prediction)\n",
    "print (\"AUR = \", aur)"
   ]
  },
  {
   "cell_type": "code",
   "execution_count": null,
   "id": "e2a6ab68",
   "metadata": {},
   "outputs": [],
   "source": []
  }
 ],
 "metadata": {
  "kernelspec": {
   "display_name": "Python 3 (ipykernel)",
   "language": "python",
   "name": "python3"
  },
  "language_info": {
   "codemirror_mode": {
    "name": "ipython",
    "version": 3
   },
   "file_extension": ".py",
   "mimetype": "text/x-python",
   "name": "python",
   "nbconvert_exporter": "python",
   "pygments_lexer": "ipython3",
   "version": "3.7.10"
  }
 },
 "nbformat": 4,
 "nbformat_minor": 5
}
